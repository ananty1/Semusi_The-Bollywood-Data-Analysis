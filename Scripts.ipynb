{
 "cells": [
  {
   "cell_type": "code",
   "execution_count": 5,
   "metadata": {},
   "outputs": [],
   "source": [
    "from PyPDF2 import PdfReader\n",
    "\n",
    "def extract_text_from_pdf(pdf_file_path, txt_file_path):\n",
    "    # Open the PDF file in binary mode\n",
    "    with open(pdf_file_path, 'rb') as pdf_file:\n",
    "        # Create a PDF reader object\n",
    "        pdf_reader = PdfReader(pdf_file)\n",
    "        \n",
    "        # Initialize an empty string to store the extracted text\n",
    "        extracted_text = ''\n",
    "        \n",
    "        # Iterate through each page in the PDF file\n",
    "        for page_num in range(len(pdf_reader.pages)):\n",
    "            # Get the text from the current page\n",
    "            page_text = pdf_reader.pages[page_num].extract_text()\n",
    "            \n",
    "            # Append the page text to the extracted text\n",
    "            extracted_text += page_text\n",
    "        \n",
    "        # Write the extracted text to a TXT file\n",
    "        with open(txt_file_path, 'w', encoding='utf-8') as txt_file:\n",
    "            txt_file.write(extracted_text)\n",
    "\n",
    "# Specify the paths for your PDF and TXT files\n",
    "pdf_file_path = 'scripts-data/Pink.pdf'\n",
    "txt_file_path = 'scripts-data/Pink_file.txt'\n",
    "\n",
    "# Call the function to extract text from the PDF and save it to the TXT file\n",
    "extract_text_from_pdf(pdf_file_path, txt_file_path)\n",
    "\n"
   ]
  },
  {
   "cell_type": "code",
   "execution_count": null,
   "metadata": {},
   "outputs": [],
   "source": []
  }
 ],
 "metadata": {
  "kernelspec": {
   "display_name": "streamlitenv",
   "language": "python",
   "name": "python3"
  },
  "language_info": {
   "codemirror_mode": {
    "name": "ipython",
    "version": 3
   },
   "file_extension": ".py",
   "mimetype": "text/x-python",
   "name": "python",
   "nbconvert_exporter": "python",
   "pygments_lexer": "ipython3",
   "version": "3.11.7"
  }
 },
 "nbformat": 4,
 "nbformat_minor": 2
}
